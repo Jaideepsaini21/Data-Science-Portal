{
 "cells": [
  {
   "cell_type": "code",
   "execution_count": null,
   "id": "e4062fc8",
   "metadata": {},
   "outputs": [],
   "source": [
    "### live plot "
   ]
  },
  {
   "cell_type": "code",
   "execution_count": 1,
   "id": "daf830eb",
   "metadata": {},
   "outputs": [],
   "source": [
    "import matplotlib.pyplot as plt\n",
    "import pandas as pd\n",
    "import seaborn as sns\n",
    "import numpy as np"
   ]
  },
  {
   "cell_type": "code",
   "execution_count": 2,
   "id": "d0f2b6a4",
   "metadata": {},
   "outputs": [],
   "source": [
    "plt.rcParams['figure.dpi'] = 100\n",
    "plt.rcParams['figure.figsize'] = 10, 5"
   ]
  },
  {
   "cell_type": "code",
   "execution_count": 23,
   "id": "f732102e",
   "metadata": {},
   "outputs": [],
   "source": [
    "plt.style.use(\"ggplot\")"
   ]
  },
  {
   "cell_type": "code",
   "execution_count": 22,
   "id": "a3dd7c73",
   "metadata": {},
   "outputs": [
    {
     "data": {
      "text/plain": [
       "['Solarize_Light2',\n",
       " '_classic_test_patch',\n",
       " 'bmh',\n",
       " 'classic',\n",
       " 'dark_background',\n",
       " 'fast',\n",
       " 'fivethirtyeight',\n",
       " 'ggplot',\n",
       " 'grayscale',\n",
       " 'seaborn',\n",
       " 'seaborn-bright',\n",
       " 'seaborn-colorblind',\n",
       " 'seaborn-dark',\n",
       " 'seaborn-dark-palette',\n",
       " 'seaborn-darkgrid',\n",
       " 'seaborn-deep',\n",
       " 'seaborn-muted',\n",
       " 'seaborn-notebook',\n",
       " 'seaborn-paper',\n",
       " 'seaborn-pastel',\n",
       " 'seaborn-poster',\n",
       " 'seaborn-talk',\n",
       " 'seaborn-ticks',\n",
       " 'seaborn-white',\n",
       " 'seaborn-whitegrid',\n",
       " 'tableau-colorblind10']"
      ]
     },
     "execution_count": 22,
     "metadata": {},
     "output_type": "execute_result"
    }
   ],
   "source": [
    "plt.style.available"
   ]
  },
  {
   "cell_type": "code",
   "execution_count": 16,
   "id": "a310b4f7",
   "metadata": {},
   "outputs": [],
   "source": [
    "data = pd.read_csv(\"Glassdoor_Job_Postings.csv\")"
   ]
  },
  {
   "cell_type": "code",
   "execution_count": 4,
   "id": "2c1d9473",
   "metadata": {},
   "outputs": [
    {
     "data": {
      "text/html": [
       "<div>\n",
       "<style scoped>\n",
       "    .dataframe tbody tr th:only-of-type {\n",
       "        vertical-align: middle;\n",
       "    }\n",
       "\n",
       "    .dataframe tbody tr th {\n",
       "        vertical-align: top;\n",
       "    }\n",
       "\n",
       "    .dataframe thead th {\n",
       "        text-align: right;\n",
       "    }\n",
       "</style>\n",
       "<table border=\"1\" class=\"dataframe\">\n",
       "  <thead>\n",
       "    <tr style=\"text-align: right;\">\n",
       "      <th></th>\n",
       "      <th>company</th>\n",
       "      <th>job_title</th>\n",
       "      <th>company_rating</th>\n",
       "      <th>job_description</th>\n",
       "      <th>location</th>\n",
       "      <th>salary_avg_estimate</th>\n",
       "      <th>salary_estimate_payperiod</th>\n",
       "      <th>company_size</th>\n",
       "      <th>company_founded</th>\n",
       "      <th>employment_type</th>\n",
       "      <th>industry</th>\n",
       "      <th>sector</th>\n",
       "      <th>revenue</th>\n",
       "      <th>career_opportunities_rating</th>\n",
       "      <th>comp_and_benefits_rating</th>\n",
       "      <th>culture_and_values_rating</th>\n",
       "      <th>senior_management_rating</th>\n",
       "      <th>work_life_balance_rating</th>\n",
       "    </tr>\n",
       "  </thead>\n",
       "  <tbody>\n",
       "    <tr>\n",
       "      <th>0</th>\n",
       "      <td>ABB</td>\n",
       "      <td>Junior Data Analyst</td>\n",
       "      <td>4.0</td>\n",
       "      <td>Junior Data Analyst\\nTake your next career ste...</td>\n",
       "      <td>Bengaluru</td>\n",
       "      <td>₹3,25,236</td>\n",
       "      <td>/yr (est.)</td>\n",
       "      <td>10000+ Employees</td>\n",
       "      <td>1883</td>\n",
       "      <td>Company - Public</td>\n",
       "      <td>Electronics Manufacturing</td>\n",
       "      <td>Manufacturing</td>\n",
       "      <td>$10+ billion (USD)</td>\n",
       "      <td>3.7</td>\n",
       "      <td>3.6</td>\n",
       "      <td>4.0</td>\n",
       "      <td>3.5</td>\n",
       "      <td>3.9</td>\n",
       "    </tr>\n",
       "    <tr>\n",
       "      <th>1</th>\n",
       "      <td>Philips</td>\n",
       "      <td>Data Scientist - AI/ML</td>\n",
       "      <td>4.0</td>\n",
       "      <td>Job Title\\nData Scientist - AI/ML\\nJob Descrip...</td>\n",
       "      <td>Bengaluru</td>\n",
       "      <td>NaN</td>\n",
       "      <td>NaN</td>\n",
       "      <td>10000+ Employees</td>\n",
       "      <td>1891</td>\n",
       "      <td>Company - Public</td>\n",
       "      <td>Healthcare Services &amp; Hospitals</td>\n",
       "      <td>Healthcare</td>\n",
       "      <td>$10+ billion (USD)</td>\n",
       "      <td>3.8</td>\n",
       "      <td>3.7</td>\n",
       "      <td>4.0</td>\n",
       "      <td>3.5</td>\n",
       "      <td>4.0</td>\n",
       "    </tr>\n",
       "    <tr>\n",
       "      <th>2</th>\n",
       "      <td>HSBC</td>\n",
       "      <td>Data Science GSC’s</td>\n",
       "      <td>3.9</td>\n",
       "      <td>Job description\\nGraduate/ Post-graduate degre...</td>\n",
       "      <td>Bengaluru</td>\n",
       "      <td>NaN</td>\n",
       "      <td>NaN</td>\n",
       "      <td>10000+ Employees</td>\n",
       "      <td>1865</td>\n",
       "      <td>Company - Public</td>\n",
       "      <td>Banking &amp; Lending</td>\n",
       "      <td>Finance</td>\n",
       "      <td>$10+ billion (USD)</td>\n",
       "      <td>3.6</td>\n",
       "      <td>3.6</td>\n",
       "      <td>3.8</td>\n",
       "      <td>3.4</td>\n",
       "      <td>3.7</td>\n",
       "    </tr>\n",
       "    <tr>\n",
       "      <th>3</th>\n",
       "      <td>Facctum Solutions</td>\n",
       "      <td>Data Analyst</td>\n",
       "      <td>NaN</td>\n",
       "      <td>Job Description\\nExperience: 0 - 2 years in da...</td>\n",
       "      <td>Karnataka</td>\n",
       "      <td>NaN</td>\n",
       "      <td>NaN</td>\n",
       "      <td>1 to 50 Employees</td>\n",
       "      <td>--</td>\n",
       "      <td>Company - Private</td>\n",
       "      <td>--</td>\n",
       "      <td>--</td>\n",
       "      <td>Unknown / Non-Applicable</td>\n",
       "      <td>NaN</td>\n",
       "      <td>NaN</td>\n",
       "      <td>NaN</td>\n",
       "      <td>NaN</td>\n",
       "      <td>NaN</td>\n",
       "    </tr>\n",
       "    <tr>\n",
       "      <th>4</th>\n",
       "      <td>JPMorgan Chase &amp; Co</td>\n",
       "      <td>Data and Analytics - Associate</td>\n",
       "      <td>4.0</td>\n",
       "      <td>JOB DESCRIPTION\\n\\nYou are a strategic thinker...</td>\n",
       "      <td>India</td>\n",
       "      <td>NaN</td>\n",
       "      <td>NaN</td>\n",
       "      <td>10000+ Employees</td>\n",
       "      <td>1799</td>\n",
       "      <td>Company - Public</td>\n",
       "      <td>Banking &amp; Lending</td>\n",
       "      <td>Finance</td>\n",
       "      <td>$10+ billion (USD)</td>\n",
       "      <td>4.0</td>\n",
       "      <td>3.9</td>\n",
       "      <td>3.9</td>\n",
       "      <td>3.6</td>\n",
       "      <td>3.7</td>\n",
       "    </tr>\n",
       "  </tbody>\n",
       "</table>\n",
       "</div>"
      ],
      "text/plain": [
       "               company                       job_title  company_rating  \\\n",
       "0                  ABB             Junior Data Analyst             4.0   \n",
       "1              Philips          Data Scientist - AI/ML             4.0   \n",
       "2                 HSBC              Data Science GSC’s             3.9   \n",
       "3    Facctum Solutions                    Data Analyst             NaN   \n",
       "4  JPMorgan Chase & Co  Data and Analytics - Associate             4.0   \n",
       "\n",
       "                                     job_description   location  \\\n",
       "0  Junior Data Analyst\\nTake your next career ste...  Bengaluru   \n",
       "1  Job Title\\nData Scientist - AI/ML\\nJob Descrip...  Bengaluru   \n",
       "2  Job description\\nGraduate/ Post-graduate degre...  Bengaluru   \n",
       "3  Job Description\\nExperience: 0 - 2 years in da...  Karnataka   \n",
       "4  JOB DESCRIPTION\\n\\nYou are a strategic thinker...      India   \n",
       "\n",
       "  salary_avg_estimate salary_estimate_payperiod       company_size  \\\n",
       "0           ₹3,25,236                /yr (est.)   10000+ Employees   \n",
       "1                 NaN                       NaN   10000+ Employees   \n",
       "2                 NaN                       NaN   10000+ Employees   \n",
       "3                 NaN                       NaN  1 to 50 Employees   \n",
       "4                 NaN                       NaN   10000+ Employees   \n",
       "\n",
       "  company_founded    employment_type                         industry  \\\n",
       "0            1883   Company - Public        Electronics Manufacturing   \n",
       "1            1891   Company - Public  Healthcare Services & Hospitals   \n",
       "2            1865   Company - Public                Banking & Lending   \n",
       "3              --  Company - Private                               --   \n",
       "4            1799   Company - Public                Banking & Lending   \n",
       "\n",
       "          sector                   revenue  career_opportunities_rating  \\\n",
       "0  Manufacturing        $10+ billion (USD)                          3.7   \n",
       "1     Healthcare        $10+ billion (USD)                          3.8   \n",
       "2        Finance        $10+ billion (USD)                          3.6   \n",
       "3             --  Unknown / Non-Applicable                          NaN   \n",
       "4        Finance        $10+ billion (USD)                          4.0   \n",
       "\n",
       "   comp_and_benefits_rating  culture_and_values_rating  \\\n",
       "0                       3.6                        4.0   \n",
       "1                       3.7                        4.0   \n",
       "2                       3.6                        3.8   \n",
       "3                       NaN                        NaN   \n",
       "4                       3.9                        3.9   \n",
       "\n",
       "   senior_management_rating  work_life_balance_rating  \n",
       "0                       3.5                       3.9  \n",
       "1                       3.5                       4.0  \n",
       "2                       3.4                       3.7  \n",
       "3                       NaN                       NaN  \n",
       "4                       3.6                       3.7  "
      ]
     },
     "execution_count": 4,
     "metadata": {},
     "output_type": "execute_result"
    }
   ],
   "source": [
    "data.head()"
   ]
  },
  {
   "cell_type": "code",
   "execution_count": 5,
   "id": "337540c8",
   "metadata": {},
   "outputs": [
    {
     "data": {
      "text/plain": [
       "(900, 18)"
      ]
     },
     "execution_count": 5,
     "metadata": {},
     "output_type": "execute_result"
    }
   ],
   "source": [
    "data.shape"
   ]
  },
  {
   "cell_type": "markdown",
   "id": "427df7af",
   "metadata": {},
   "source": [
    "    1. Home page \n",
    "        Insights (analysis, visualizations)\n",
    "    2. Footer page \n",
    "    3. Header page \n",
    "    4. Filters \n",
    "        location\n",
    "        job title \n",
    "        company rating\n",
    "        sector \n",
    "    5. Mail functionality \n",
    "        Authentication \n",
    "        \n",
    "        \n",
    "        \n",
    "        Data \n",
    "            Preprocessing\n",
    "                1. Cleaning\n",
    "                2. Missing Values\n",
    "                \n",
    "            WordCloud\n",
    "            Gifs\n",
    "            Map"
   ]
  },
  {
   "cell_type": "code",
   "execution_count": 6,
   "id": "52af5622",
   "metadata": {},
   "outputs": [
    {
     "name": "stdout",
     "output_type": "stream",
     "text": [
      "<class 'pandas.core.frame.DataFrame'>\n",
      "RangeIndex: 900 entries, 0 to 899\n",
      "Data columns (total 18 columns):\n",
      " #   Column                       Non-Null Count  Dtype  \n",
      "---  ------                       --------------  -----  \n",
      " 0   company                      899 non-null    object \n",
      " 1   job_title                    900 non-null    object \n",
      " 2   company_rating               656 non-null    float64\n",
      " 3   job_description              888 non-null    object \n",
      " 4   location                     900 non-null    object \n",
      " 5   salary_avg_estimate          636 non-null    object \n",
      " 6   salary_estimate_payperiod    636 non-null    object \n",
      " 7   company_size                 774 non-null    object \n",
      " 8   company_founded              774 non-null    object \n",
      " 9   employment_type              774 non-null    object \n",
      " 10  industry                     774 non-null    object \n",
      " 11  sector                       774 non-null    object \n",
      " 12  revenue                      774 non-null    object \n",
      " 13  career_opportunities_rating  731 non-null    float64\n",
      " 14  comp_and_benefits_rating     731 non-null    float64\n",
      " 15  culture_and_values_rating    731 non-null    float64\n",
      " 16  senior_management_rating     731 non-null    float64\n",
      " 17  work_life_balance_rating     731 non-null    float64\n",
      "dtypes: float64(6), object(12)\n",
      "memory usage: 126.7+ KB\n"
     ]
    }
   ],
   "source": [
    "data.info()"
   ]
  },
  {
   "cell_type": "code",
   "execution_count": 7,
   "id": "a956624c",
   "metadata": {},
   "outputs": [
    {
     "data": {
      "text/html": [
       "<div>\n",
       "<style scoped>\n",
       "    .dataframe tbody tr th:only-of-type {\n",
       "        vertical-align: middle;\n",
       "    }\n",
       "\n",
       "    .dataframe tbody tr th {\n",
       "        vertical-align: top;\n",
       "    }\n",
       "\n",
       "    .dataframe thead th {\n",
       "        text-align: right;\n",
       "    }\n",
       "</style>\n",
       "<table border=\"1\" class=\"dataframe\">\n",
       "  <thead>\n",
       "    <tr style=\"text-align: right;\">\n",
       "      <th></th>\n",
       "      <th>company_rating</th>\n",
       "      <th>career_opportunities_rating</th>\n",
       "      <th>comp_and_benefits_rating</th>\n",
       "      <th>culture_and_values_rating</th>\n",
       "      <th>senior_management_rating</th>\n",
       "      <th>work_life_balance_rating</th>\n",
       "    </tr>\n",
       "  </thead>\n",
       "  <tbody>\n",
       "    <tr>\n",
       "      <th>count</th>\n",
       "      <td>656.000000</td>\n",
       "      <td>731.000000</td>\n",
       "      <td>731.000000</td>\n",
       "      <td>731.000000</td>\n",
       "      <td>731.000000</td>\n",
       "      <td>731.000000</td>\n",
       "    </tr>\n",
       "    <tr>\n",
       "      <th>mean</th>\n",
       "      <td>3.948171</td>\n",
       "      <td>3.838304</td>\n",
       "      <td>3.678796</td>\n",
       "      <td>3.903010</td>\n",
       "      <td>3.677702</td>\n",
       "      <td>3.804378</td>\n",
       "    </tr>\n",
       "    <tr>\n",
       "      <th>std</th>\n",
       "      <td>0.440294</td>\n",
       "      <td>0.520020</td>\n",
       "      <td>0.525854</td>\n",
       "      <td>0.545233</td>\n",
       "      <td>0.589133</td>\n",
       "      <td>0.559777</td>\n",
       "    </tr>\n",
       "    <tr>\n",
       "      <th>min</th>\n",
       "      <td>1.000000</td>\n",
       "      <td>1.000000</td>\n",
       "      <td>1.000000</td>\n",
       "      <td>1.000000</td>\n",
       "      <td>1.000000</td>\n",
       "      <td>1.000000</td>\n",
       "    </tr>\n",
       "    <tr>\n",
       "      <th>25%</th>\n",
       "      <td>3.700000</td>\n",
       "      <td>3.600000</td>\n",
       "      <td>3.400000</td>\n",
       "      <td>3.600000</td>\n",
       "      <td>3.300000</td>\n",
       "      <td>3.600000</td>\n",
       "    </tr>\n",
       "    <tr>\n",
       "      <th>50%</th>\n",
       "      <td>4.000000</td>\n",
       "      <td>3.800000</td>\n",
       "      <td>3.700000</td>\n",
       "      <td>3.900000</td>\n",
       "      <td>3.600000</td>\n",
       "      <td>3.800000</td>\n",
       "    </tr>\n",
       "    <tr>\n",
       "      <th>75%</th>\n",
       "      <td>4.200000</td>\n",
       "      <td>4.100000</td>\n",
       "      <td>4.000000</td>\n",
       "      <td>4.200000</td>\n",
       "      <td>4.000000</td>\n",
       "      <td>4.100000</td>\n",
       "    </tr>\n",
       "    <tr>\n",
       "      <th>max</th>\n",
       "      <td>5.000000</td>\n",
       "      <td>5.000000</td>\n",
       "      <td>5.000000</td>\n",
       "      <td>5.000000</td>\n",
       "      <td>5.000000</td>\n",
       "      <td>5.000000</td>\n",
       "    </tr>\n",
       "  </tbody>\n",
       "</table>\n",
       "</div>"
      ],
      "text/plain": [
       "       company_rating  career_opportunities_rating  comp_and_benefits_rating  \\\n",
       "count      656.000000                   731.000000                731.000000   \n",
       "mean         3.948171                     3.838304                  3.678796   \n",
       "std          0.440294                     0.520020                  0.525854   \n",
       "min          1.000000                     1.000000                  1.000000   \n",
       "25%          3.700000                     3.600000                  3.400000   \n",
       "50%          4.000000                     3.800000                  3.700000   \n",
       "75%          4.200000                     4.100000                  4.000000   \n",
       "max          5.000000                     5.000000                  5.000000   \n",
       "\n",
       "       culture_and_values_rating  senior_management_rating  \\\n",
       "count                 731.000000                731.000000   \n",
       "mean                    3.903010                  3.677702   \n",
       "std                     0.545233                  0.589133   \n",
       "min                     1.000000                  1.000000   \n",
       "25%                     3.600000                  3.300000   \n",
       "50%                     3.900000                  3.600000   \n",
       "75%                     4.200000                  4.000000   \n",
       "max                     5.000000                  5.000000   \n",
       "\n",
       "       work_life_balance_rating  \n",
       "count                731.000000  \n",
       "mean                   3.804378  \n",
       "std                    0.559777  \n",
       "min                    1.000000  \n",
       "25%                    3.600000  \n",
       "50%                    3.800000  \n",
       "75%                    4.100000  \n",
       "max                    5.000000  "
      ]
     },
     "execution_count": 7,
     "metadata": {},
     "output_type": "execute_result"
    }
   ],
   "source": [
    "data.describe()"
   ]
  },
  {
   "cell_type": "markdown",
   "id": "4288a586",
   "metadata": {},
   "source": [
    "<h2 style='color:red'> Preprocessing </h2>"
   ]
  },
  {
   "cell_type": "markdown",
   "id": "ae6c315e",
   "metadata": {},
   "source": [
    "1. Clean data <br>\n",
    "        a. By removing none values <br>\n",
    "        b. By removing irrelavant columns\n",
    "2. Removing outliers"
   ]
  },
  {
   "cell_type": "code",
   "execution_count": 8,
   "id": "bf871e4d",
   "metadata": {},
   "outputs": [
    {
     "data": {
      "text/plain": [
       "company                          1\n",
       "job_title                        0\n",
       "company_rating                 244\n",
       "job_description                 12\n",
       "location                         0\n",
       "salary_avg_estimate            264\n",
       "salary_estimate_payperiod      264\n",
       "company_size                   126\n",
       "company_founded                126\n",
       "employment_type                126\n",
       "industry                       126\n",
       "sector                         126\n",
       "revenue                        126\n",
       "career_opportunities_rating    169\n",
       "comp_and_benefits_rating       169\n",
       "culture_and_values_rating      169\n",
       "senior_management_rating       169\n",
       "work_life_balance_rating       169\n",
       "dtype: int64"
      ]
     },
     "execution_count": 8,
     "metadata": {},
     "output_type": "execute_result"
    }
   ],
   "source": [
    "data.isna().sum()"
   ]
  },
  {
   "cell_type": "markdown",
   "id": "abf99630",
   "metadata": {},
   "source": [
    "    There are many columns with none values but we will remove rows and columns with all none values "
   ]
  },
  {
   "cell_type": "code",
   "execution_count": 17,
   "id": "bfcda20a",
   "metadata": {},
   "outputs": [],
   "source": [
    "data.dropna(how='all', axis=0, inplace=True)\n",
    "data.dropna(how='all', axis=1, inplace=True)"
   ]
  },
  {
   "cell_type": "code",
   "execution_count": 18,
   "id": "e4fee392",
   "metadata": {},
   "outputs": [
    {
     "data": {
      "text/plain": [
       "(900, 18)"
      ]
     },
     "execution_count": 18,
     "metadata": {},
     "output_type": "execute_result"
    }
   ],
   "source": [
    "data.shape"
   ]
  },
  {
   "cell_type": "markdown",
   "id": "67d4ae7f",
   "metadata": {},
   "source": [
    "    There are no rows or columns with all none values so we have total rows same as previous i.e 900"
   ]
  },
  {
   "cell_type": "markdown",
   "id": "1301ffa4",
   "metadata": {},
   "source": [
    "    All columns are relevant so we will remove no columns"
   ]
  },
  {
   "cell_type": "code",
   "execution_count": 19,
   "id": "11faa26e",
   "metadata": {},
   "outputs": [
    {
     "data": {
      "text/html": [
       "<div>\n",
       "<style scoped>\n",
       "    .dataframe tbody tr th:only-of-type {\n",
       "        vertical-align: middle;\n",
       "    }\n",
       "\n",
       "    .dataframe tbody tr th {\n",
       "        vertical-align: top;\n",
       "    }\n",
       "\n",
       "    .dataframe thead th {\n",
       "        text-align: right;\n",
       "    }\n",
       "</style>\n",
       "<table border=\"1\" class=\"dataframe\">\n",
       "  <thead>\n",
       "    <tr style=\"text-align: right;\">\n",
       "      <th></th>\n",
       "      <th>company</th>\n",
       "      <th>job_title</th>\n",
       "      <th>company_rating</th>\n",
       "      <th>job_description</th>\n",
       "      <th>location</th>\n",
       "      <th>salary_avg_estimate</th>\n",
       "      <th>salary_estimate_payperiod</th>\n",
       "      <th>company_size</th>\n",
       "      <th>company_founded</th>\n",
       "      <th>employment_type</th>\n",
       "      <th>industry</th>\n",
       "      <th>sector</th>\n",
       "      <th>revenue</th>\n",
       "      <th>career_opportunities_rating</th>\n",
       "      <th>comp_and_benefits_rating</th>\n",
       "      <th>culture_and_values_rating</th>\n",
       "      <th>senior_management_rating</th>\n",
       "      <th>work_life_balance_rating</th>\n",
       "    </tr>\n",
       "  </thead>\n",
       "  <tbody>\n",
       "    <tr>\n",
       "      <th>0</th>\n",
       "      <td>ABB</td>\n",
       "      <td>Junior Data Analyst</td>\n",
       "      <td>4.0</td>\n",
       "      <td>Junior Data Analyst\\nTake your next career ste...</td>\n",
       "      <td>Bengaluru</td>\n",
       "      <td>₹3,25,236</td>\n",
       "      <td>/yr (est.)</td>\n",
       "      <td>10000+ Employees</td>\n",
       "      <td>1883</td>\n",
       "      <td>Company - Public</td>\n",
       "      <td>Electronics Manufacturing</td>\n",
       "      <td>Manufacturing</td>\n",
       "      <td>$10+ billion (USD)</td>\n",
       "      <td>3.7</td>\n",
       "      <td>3.6</td>\n",
       "      <td>4.0</td>\n",
       "      <td>3.5</td>\n",
       "      <td>3.9</td>\n",
       "    </tr>\n",
       "    <tr>\n",
       "      <th>1</th>\n",
       "      <td>Philips</td>\n",
       "      <td>Data Scientist - AI/ML</td>\n",
       "      <td>4.0</td>\n",
       "      <td>Job Title\\nData Scientist - AI/ML\\nJob Descrip...</td>\n",
       "      <td>Bengaluru</td>\n",
       "      <td>NaN</td>\n",
       "      <td>NaN</td>\n",
       "      <td>10000+ Employees</td>\n",
       "      <td>1891</td>\n",
       "      <td>Company - Public</td>\n",
       "      <td>Healthcare Services &amp; Hospitals</td>\n",
       "      <td>Healthcare</td>\n",
       "      <td>$10+ billion (USD)</td>\n",
       "      <td>3.8</td>\n",
       "      <td>3.7</td>\n",
       "      <td>4.0</td>\n",
       "      <td>3.5</td>\n",
       "      <td>4.0</td>\n",
       "    </tr>\n",
       "    <tr>\n",
       "      <th>2</th>\n",
       "      <td>HSBC</td>\n",
       "      <td>Data Science GSC’s</td>\n",
       "      <td>3.9</td>\n",
       "      <td>Job description\\nGraduate/ Post-graduate degre...</td>\n",
       "      <td>Bengaluru</td>\n",
       "      <td>NaN</td>\n",
       "      <td>NaN</td>\n",
       "      <td>10000+ Employees</td>\n",
       "      <td>1865</td>\n",
       "      <td>Company - Public</td>\n",
       "      <td>Banking &amp; Lending</td>\n",
       "      <td>Finance</td>\n",
       "      <td>$10+ billion (USD)</td>\n",
       "      <td>3.6</td>\n",
       "      <td>3.6</td>\n",
       "      <td>3.8</td>\n",
       "      <td>3.4</td>\n",
       "      <td>3.7</td>\n",
       "    </tr>\n",
       "    <tr>\n",
       "      <th>3</th>\n",
       "      <td>Facctum Solutions</td>\n",
       "      <td>Data Analyst</td>\n",
       "      <td>NaN</td>\n",
       "      <td>Job Description\\nExperience: 0 - 2 years in da...</td>\n",
       "      <td>Karnataka</td>\n",
       "      <td>NaN</td>\n",
       "      <td>NaN</td>\n",
       "      <td>1 to 50 Employees</td>\n",
       "      <td>--</td>\n",
       "      <td>Company - Private</td>\n",
       "      <td>--</td>\n",
       "      <td>--</td>\n",
       "      <td>Unknown / Non-Applicable</td>\n",
       "      <td>NaN</td>\n",
       "      <td>NaN</td>\n",
       "      <td>NaN</td>\n",
       "      <td>NaN</td>\n",
       "      <td>NaN</td>\n",
       "    </tr>\n",
       "    <tr>\n",
       "      <th>4</th>\n",
       "      <td>JPMorgan Chase &amp; Co</td>\n",
       "      <td>Data and Analytics - Associate</td>\n",
       "      <td>4.0</td>\n",
       "      <td>JOB DESCRIPTION\\n\\nYou are a strategic thinker...</td>\n",
       "      <td>India</td>\n",
       "      <td>NaN</td>\n",
       "      <td>NaN</td>\n",
       "      <td>10000+ Employees</td>\n",
       "      <td>1799</td>\n",
       "      <td>Company - Public</td>\n",
       "      <td>Banking &amp; Lending</td>\n",
       "      <td>Finance</td>\n",
       "      <td>$10+ billion (USD)</td>\n",
       "      <td>4.0</td>\n",
       "      <td>3.9</td>\n",
       "      <td>3.9</td>\n",
       "      <td>3.6</td>\n",
       "      <td>3.7</td>\n",
       "    </tr>\n",
       "  </tbody>\n",
       "</table>\n",
       "</div>"
      ],
      "text/plain": [
       "               company                       job_title  company_rating  \\\n",
       "0                  ABB             Junior Data Analyst             4.0   \n",
       "1              Philips          Data Scientist - AI/ML             4.0   \n",
       "2                 HSBC              Data Science GSC’s             3.9   \n",
       "3    Facctum Solutions                    Data Analyst             NaN   \n",
       "4  JPMorgan Chase & Co  Data and Analytics - Associate             4.0   \n",
       "\n",
       "                                     job_description   location  \\\n",
       "0  Junior Data Analyst\\nTake your next career ste...  Bengaluru   \n",
       "1  Job Title\\nData Scientist - AI/ML\\nJob Descrip...  Bengaluru   \n",
       "2  Job description\\nGraduate/ Post-graduate degre...  Bengaluru   \n",
       "3  Job Description\\nExperience: 0 - 2 years in da...  Karnataka   \n",
       "4  JOB DESCRIPTION\\n\\nYou are a strategic thinker...      India   \n",
       "\n",
       "  salary_avg_estimate salary_estimate_payperiod       company_size  \\\n",
       "0           ₹3,25,236                /yr (est.)   10000+ Employees   \n",
       "1                 NaN                       NaN   10000+ Employees   \n",
       "2                 NaN                       NaN   10000+ Employees   \n",
       "3                 NaN                       NaN  1 to 50 Employees   \n",
       "4                 NaN                       NaN   10000+ Employees   \n",
       "\n",
       "  company_founded    employment_type                         industry  \\\n",
       "0            1883   Company - Public        Electronics Manufacturing   \n",
       "1            1891   Company - Public  Healthcare Services & Hospitals   \n",
       "2            1865   Company - Public                Banking & Lending   \n",
       "3              --  Company - Private                               --   \n",
       "4            1799   Company - Public                Banking & Lending   \n",
       "\n",
       "          sector                   revenue  career_opportunities_rating  \\\n",
       "0  Manufacturing        $10+ billion (USD)                          3.7   \n",
       "1     Healthcare        $10+ billion (USD)                          3.8   \n",
       "2        Finance        $10+ billion (USD)                          3.6   \n",
       "3             --  Unknown / Non-Applicable                          NaN   \n",
       "4        Finance        $10+ billion (USD)                          4.0   \n",
       "\n",
       "   comp_and_benefits_rating  culture_and_values_rating  \\\n",
       "0                       3.6                        4.0   \n",
       "1                       3.7                        4.0   \n",
       "2                       3.6                        3.8   \n",
       "3                       NaN                        NaN   \n",
       "4                       3.9                        3.9   \n",
       "\n",
       "   senior_management_rating  work_life_balance_rating  \n",
       "0                       3.5                       3.9  \n",
       "1                       3.5                       4.0  \n",
       "2                       3.4                       3.7  \n",
       "3                       NaN                       NaN  \n",
       "4                       3.6                       3.7  "
      ]
     },
     "execution_count": 19,
     "metadata": {},
     "output_type": "execute_result"
    }
   ],
   "source": [
    "data.head()"
   ]
  },
  {
   "cell_type": "markdown",
   "id": "697d0b1f",
   "metadata": {},
   "source": [
    "<h2 style='color:red'> Data Analysis and Visualization </h2>"
   ]
  },
  {
   "cell_type": "markdown",
   "id": "ed74b4b8",
   "metadata": {},
   "source": [
    "#### Top job profiles"
   ]
  },
  {
   "cell_type": "code",
   "execution_count": 25,
   "id": "d8e5e025",
   "metadata": {},
   "outputs": [
    {
     "data": {
      "text/plain": [
       "Data Analyst                         121\n",
       "Data Scientist                        93\n",
       "Data Engineer                         59\n",
       "Data Entry Operator                   19\n",
       "Data Science Intern                    8\n",
       "                                    ... \n",
       "Sustainability Data Analyst            1\n",
       "Data Analyst, AVP                      1\n",
       "Junior Data Engineer (Delhi- NCR)      1\n",
       "Data Engineer - I                      1\n",
       "Member Data Science                    1\n",
       "Name: job_title, Length: 505, dtype: int64"
      ]
     },
     "execution_count": 25,
     "metadata": {},
     "output_type": "execute_result"
    }
   ],
   "source": [
    "data['job_title'].value_counts()"
   ]
  },
  {
   "cell_type": "code",
   "execution_count": 38,
   "id": "ac18d596",
   "metadata": {},
   "outputs": [],
   "source": [
    "def jobtitle_cleaning(x):\n",
    "    chars = [':', ';', '(']\n",
    "    for i in chars:\n",
    "        if i in x:\n",
    "            for j in x.split(i):\n",
    "                if \"data\" in j.lower():\n",
    "                    return j.title().strip()\n",
    "    return x.title().strip()"
   ]
  },
  {
   "cell_type": "code",
   "execution_count": 51,
   "id": "b99737d6",
   "metadata": {},
   "outputs": [
    {
     "data": {
      "text/plain": [
       "Data Analyst                   135\n",
       "Data Scientist                 111\n",
       "Data Engineer                   67\n",
       "Data Entry Operator             20\n",
       "Data Science Intern              9\n",
       "                              ... \n",
       "Data Annotation Analyst          1\n",
       "Research Analyst                 1\n",
       "Sustainability Data Analyst      1\n",
       "Data Annotator - Contractor      1\n",
       "Member Data Science              1\n",
       "Name: job_title, Length: 460, dtype: int64"
      ]
     },
     "execution_count": 51,
     "metadata": {},
     "output_type": "execute_result"
    }
   ],
   "source": [
    "data['job_title'].apply(jobtitle_cleaning).value_counts()"
   ]
  },
  {
   "cell_type": "code",
   "execution_count": 44,
   "id": "67ddc729",
   "metadata": {
    "scrolled": true
   },
   "outputs": [
    {
     "data": {
      "text/plain": [
       "<AxesSubplot:>"
      ]
     },
     "execution_count": 44,
     "metadata": {},
     "output_type": "execute_result"
    },
    {
     "data": {
      "image/png": "[encoded data removed]",
      "text/plain": [
       "<Figure size 1000x500 with 1 Axes>"
      ]
     },
     "metadata": {},
     "output_type": "display_data"
    }
   ],
   "source": [
    "data['job_title'].apply(jobtitle_cleaning).value_counts()[:10].plot(kind='bar')"
   ]
  },
  {
   "cell_type": "code",
   "execution_count": 46,
   "id": "d0bf9151",
   "metadata": {},
   "outputs": [],
   "source": [
    "data['job_title'] = data['job_title'].apply(jobtitle_cleaning)"
   ]
  },
  {
   "cell_type": "code",
   "execution_count": 47,
   "id": "f642743d",
   "metadata": {},
   "outputs": [
    {
     "name": "stderr",
     "output_type": "stream",
     "text": [
      "C:\\Anaconda\\lib\\site-packages\\seaborn\\_decorators.py:36: FutureWarning: Pass the following variable as a keyword arg: x. From version 0.12, the only valid positional argument will be `data`, and passing other arguments without an explicit keyword will result in an error or misinterpretation.\n",
      "  warnings.warn(\n"
     ]
    },
    {
     "data": {
      "text/plain": [
       "<AxesSubplot:xlabel='job_title', ylabel='count'>"
      ]
     },
     "execution_count": 47,
     "metadata": {},
     "output_type": "execute_result"
    },
    {
     "data": {
      "image/png": "[encoded data removed]",
      "text/plain": [
       "<Figure size 1000x500 with 1 Axes>"
      ]
     },
     "metadata": {},
     "output_type": "display_data"
    }
   ],
   "source": [
    "sns.countplot(data['job_title'])"
   ]
  },
  {
   "cell_type": "code",
   "execution_count": 53,
   "id": "a1033fcb",
   "metadata": {},
   "outputs": [
    {
     "data": {
      "text/plain": [
       "Data Officer                                               1\n",
       "Data Analyst-Digital Analytics                             1\n",
       "Math- Data Analyst Iii                                     1\n",
       "Fhir Data Analyst                                          1\n",
       "Data Scientist-Cx Analytics                                1\n",
       "Data Analyst 2                                             1\n",
       "Product Owner Data Acquisition Securities - Associate      1\n",
       "Data Analyst & Developer                                   1\n",
       "Senior Associate - Data Science                            1\n",
       "Operational Data Analyst                                   1\n",
       "Data Visualization Developer                               1\n",
       "Data Steward                                               1\n",
       "Data Entry Clerk                                           1\n",
       "Data Management - Associate                                1\n",
       "Digital Marketing Data Analyst                             1\n",
       "Data Analyst - Sas                                         1\n",
       "Manager - Data Center Operations                           1\n",
       "Data & Analytics Architect                                 1\n",
       "Technical Program Manager, Data Analytics                  1\n",
       "Researcher - Data Operations Intern                        1\n",
       "Data Privacy/Data Analyst                                  1\n",
       "Data Visualization Associate Senior                        1\n",
       "Ms Sql- Dba                                                1\n",
       "Meeting Support- Data Admin & Reconciliation Specialist    1\n",
       "Data Analyst Associate - Pma                               1\n",
       "Data Analyst 1                                             1\n",
       "Computer Data Entry Operator                               1\n",
       "Market Data Analyst                                        1\n",
       "Data Analyst - Price Hub                                   1\n",
       "Associate Ii - Data Science                                1\n",
       "Name: job_title, dtype: int64"
      ]
     },
     "execution_count": 53,
     "metadata": {},
     "output_type": "execute_result"
    }
   ],
   "source": [
    "val_count = data['job_title'].value_counts()\n",
    "val_count[val_count<=1][:30]"
   ]
  },
  {
   "cell_type": "markdown",
   "id": "3347c44a",
   "metadata": {},
   "source": [
    "    There are many other profiles considering data analyst or data scientist etc but they are with \n",
    "    other skills as well. \n",
    "    \n",
    "    Removing those extra keywords and showcasting final result. "
   ]
  },
  {
   "cell_type": "code",
   "execution_count": 57,
   "id": "267bca83",
   "metadata": {},
   "outputs": [],
   "source": [
    "def cleaning_job_title_with_other_skills(x):\n",
    "    if \"-\" in x:\n",
    "        for i in x.split(\"-\"):\n",
    "            if \"data\" in x.lower():\n",
    "                x = i.strip()\n",
    "                last_val = x.split()[-1]\n",
    "                if not last_val.strip().isalpha() or \"i\" in last_val.lower():\n",
    "                    x = ' '.join(x.split()[:-1])\n",
    "                    return x\n",
    "    return x"
   ]
  },
  {
   "cell_type": "code",
   "execution_count": 59,
   "id": "6b307fff",
   "metadata": {},
   "outputs": [
    {
     "data": {
      "text/plain": [
       "Data Analyst                   136\n",
       "Data Scientist                 111\n",
       "Data Engineer                   67\n",
       "Data                            25\n",
       "Data Entry Operator             20\n",
       "                              ... \n",
       "Data Warehouse Etl Tester        1\n",
       "Associate Data Engineer R&D      1\n",
       "Data Ops                         1\n",
       "Data Specialist                  1\n",
       "Member Data Science              1\n",
       "Name: job_title, Length: 400, dtype: int64"
      ]
     },
     "execution_count": 59,
     "metadata": {},
     "output_type": "execute_result"
    }
   ],
   "source": [
    "data['job_title'].apply(cleaning_job_title_with_other_skills).value_counts()"
   ]
  },
  {
   "cell_type": "code",
   "execution_count": 61,
   "id": "91cf4593",
   "metadata": {},
   "outputs": [
    {
     "data": {
      "text/plain": [
       "Data Analyst/Power Bi                        1\n",
       "Digital Marketing Data Analyst               1\n",
       "Python + Sql                                 1\n",
       "Data Science & Ai Specialist                 1\n",
       "Market Research Data Analyst                 1\n",
       "Data And Analytics Managing Consultant       1\n",
       "Digital Public                               1\n",
       "Computer Data Entry Operator                 1\n",
       "Data Analyst 1                               1\n",
       "Lighthouse Pyspark Data Engineer             1\n",
       "Jr Data Science Engineer                     1\n",
       "Clinical Data Coder                          1\n",
       "Data Steward                                 1\n",
       "Data Visualization Associate Senior          1\n",
       "Data Entry Officer                           1\n",
       "Data Privacy/Data Analyst                    1\n",
       "Know Your Customer                           1\n",
       "Ms Sql- Dba                                  1\n",
       "Technical Program Manager, Data Analytics    1\n",
       "Data Officer                                 1\n",
       "Finance Process & Ops                        1\n",
       "Senior Analyst                               1\n",
       "Data & Analytics Architect                   1\n",
       "Fhir Data Analyst                            1\n",
       "Data Analyst & Developer                     1\n",
       "Junior Machine Learning Engineer             1\n",
       "Senior Data                                  1\n",
       "Mesh                                         1\n",
       "Data Annotation Analyst                      1\n",
       "Lng Data Analyst                             1\n",
       "Name: job_title, dtype: int64"
      ]
     },
     "execution_count": 61,
     "metadata": {},
     "output_type": "execute_result"
    }
   ],
   "source": [
    "val_count = data['job_title'].apply(cleaning_job_title_with_other_skills).value_counts()\n",
    "val_count[val_count<=1][:30]"
   ]
  },
  {
   "cell_type": "code",
   "execution_count": null,
   "id": "d65b55f4",
   "metadata": {},
   "outputs": [],
   "source": [
    "### data analysis "
   ]
  }
 ],
 "metadata": {
  "kernelspec": {
   "display_name": "Python 3",
   "language": "python",
   "name": "python3"
  },
  "language_info": {
   "codemirror_mode": {
    "name": "ipython",
    "version": 3
   },
   "file_extension": ".py",
   "mimetype": "text/x-python",
   "name": "python",
   "nbconvert_exporter": "python",
   "pygments_lexer": "ipython3",
   "version": "3.8.8"
  }
 },
 "nbformat": 4,
 "nbformat_minor": 5
}
